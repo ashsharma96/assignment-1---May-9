{
 "cells": [
  {
   "cell_type": "markdown",
   "id": "e3212d74",
   "metadata": {},
   "source": [
    "Question 1"
   ]
  },
  {
   "cell_type": "code",
   "execution_count": 1,
   "id": "0b933008",
   "metadata": {},
   "outputs": [],
   "source": [
    "my_string = \"Hello, World!\"\n",
    "\n",
    "# List\n",
    "my_list = [1, 2, 3, 4, 5]\n",
    "\n",
    "# Float\n",
    "my_float = 3.14\n",
    "\n",
    "# Tuple\n",
    "my_tuple = (10, 20, 30, 40, 50)"
   ]
  },
  {
   "cell_type": "markdown",
   "id": "6a19baf8",
   "metadata": {},
   "source": [
    "Question 2\n",
    "var1 =  string (str)\n",
    "var2 = string (str)\n",
    "var3 = list of strings (list)\n",
    "var4 = floating-point number (float)"
   ]
  },
  {
   "cell_type": "markdown",
   "id": "d4ba5b4c",
   "metadata": {},
   "source": [
    "Question 3\n",
    "/: The division operator is used to perform division between two numbers. It returns the quotient as a floating-point number.\n",
    "\n",
    "%: The modulo operator returns the remainder of the division operation between two numbers.\n",
    "\n",
    "//: The floor division operator performs division between two numbers and returns the integer part of the quotient. It disregards any fractional part.\n",
    "\n",
    "**: The exponentiation operator ** is used to raise a number to the power of another number."
   ]
  },
  {
   "cell_type": "code",
   "execution_count": 6,
   "id": "c4102747",
   "metadata": {},
   "outputs": [
    {
     "name": "stdout",
     "output_type": "stream",
     "text": [
      "Output of / operator = 3.3333333333333335\n",
      "Output of % operator = 1\n",
      "Output of // operator = 3\n",
      "Output of ** operator = 1000\n"
     ]
    }
   ],
   "source": [
    "# Examples of Question 3\n",
    "# / operator example\n",
    "a = 10\n",
    "b = 3\n",
    "result = a / b\n",
    "print(\"Output of / operator =\", result)\n",
    "\n",
    "# % operator example\n",
    "a = 10\n",
    "b = 3\n",
    "result = a % b\n",
    "print(\"Output of % operator =\", result)\n",
    "\n",
    "# // operator example\n",
    "a = 10\n",
    "b = 3\n",
    "result = a // b\n",
    "print(\"Output of // operator =\", result)\n",
    "\n",
    "# ** operator example\n",
    "a = 10\n",
    "b = 3\n",
    "result = a ** b\n",
    "print(\"Output of ** operator =\", result)"
   ]
  },
  {
   "cell_type": "markdown",
   "id": "f60ab26b",
   "metadata": {},
   "source": [
    "Question 4"
   ]
  },
  {
   "cell_type": "code",
   "execution_count": 7,
   "id": "48c26c13",
   "metadata": {},
   "outputs": [
    {
     "name": "stdout",
     "output_type": "stream",
     "text": [
      "Element: 1, Data Type: <class 'int'>\n",
      "Element: 2.5, Data Type: <class 'float'>\n",
      "Element: Hello, Data Type: <class 'str'>\n",
      "Element: True, Data Type: <class 'bool'>\n",
      "Element: [3, 4, 5], Data Type: <class 'list'>\n",
      "Element: {'a': 10, 'b': 20}, Data Type: <class 'dict'>\n",
      "Element: None, Data Type: <class 'NoneType'>\n",
      "Element: (6, 7), Data Type: <class 'tuple'>\n",
      "Element: (8+9j), Data Type: <class 'complex'>\n",
      "Element: range(0, 5), Data Type: <class 'range'>\n"
     ]
    }
   ],
   "source": [
    "my_list = [1, 2.5, 'Hello', True, [3, 4, 5], {'a': 10, 'b': 20}, None, (6, 7), 8 + 9j, range(5)]\n",
    "\n",
    "for element in my_list:\n",
    "    print(f\"Element: {element}, Data Type: {type(element)}\")"
   ]
  },
  {
   "cell_type": "markdown",
   "id": "53b7cb65",
   "metadata": {},
   "source": [
    "Question 5"
   ]
  },
  {
   "cell_type": "code",
   "execution_count": 19,
   "id": "a430292c",
   "metadata": {},
   "outputs": [
    {
     "name": "stdout",
     "output_type": "stream",
     "text": [
      "25 is not purely divisible by 7.\n"
     ]
    }
   ],
   "source": [
    "def is_divisible(a, b):\n",
    "    if b == 0:\n",
    "        return False\n",
    "    return a % b == 0\n",
    "\n",
    "# Example usage\n",
    "a = 25\n",
    "b = 7\n",
    "result = is_divisible(a, b)\n",
    "\n",
    "if result:\n",
    "    print(f\"{a} is purely divisible by {b}.\")\n",
    "else:\n",
    "    print(f\"{a} is not purely divisible by {b}.\")"
   ]
  },
  {
   "cell_type": "markdown",
   "id": "aad00c28",
   "metadata": {},
   "source": [
    "Question 6"
   ]
  },
  {
   "cell_type": "code",
   "execution_count": 8,
   "id": "87d62ff3",
   "metadata": {},
   "outputs": [
    {
     "name": "stdout",
     "output_type": "stream",
     "text": [
      "1 is not divisible by 3.\n",
      "2 is not divisible by 3.\n",
      "3 is divisible by 3.\n",
      "4 is not divisible by 3.\n",
      "5 is not divisible by 3.\n",
      "6 is divisible by 3.\n",
      "7 is not divisible by 3.\n",
      "8 is not divisible by 3.\n",
      "9 is divisible by 3.\n",
      "10 is not divisible by 3.\n",
      "11 is not divisible by 3.\n",
      "12 is divisible by 3.\n",
      "13 is not divisible by 3.\n",
      "14 is not divisible by 3.\n",
      "15 is divisible by 3.\n",
      "16 is not divisible by 3.\n",
      "17 is not divisible by 3.\n",
      "18 is divisible by 3.\n",
      "19 is not divisible by 3.\n",
      "20 is not divisible by 3.\n",
      "21 is divisible by 3.\n",
      "22 is not divisible by 3.\n",
      "23 is not divisible by 3.\n",
      "24 is divisible by 3.\n",
      "25 is not divisible by 3.\n"
     ]
    }
   ],
   "source": [
    "my_list = list(range(1, 26))\n",
    "\n",
    "# Using a for loop and if-else condition to check divisibility by 3\n",
    "for num in my_list:\n",
    "    if num % 3 == 0:\n",
    "        print(f\"{num} is divisible by 3.\")\n",
    "    else:\n",
    "        print(f\"{num} is not divisible by 3.\")"
   ]
  },
  {
   "cell_type": "markdown",
   "id": "f96457d4",
   "metadata": {},
   "source": [
    "Question 7"
   ]
  },
  {
   "cell_type": "markdown",
   "id": "3f0f57d9",
   "metadata": {},
   "source": [
    "Mutable and immutable refer to whether an object's state can be changed after it has been created.\n",
    "\n",
    ". Mutable: Objects whose state can be modified after creation are called mutable. This means you can alter the object's \n",
    "contents without creating a new object. Examples of mutable data types in Python include lists, dictionaries, and sets.\n",
    "\n",
    ". Immutable: Objects whose state cannot be modified after creation are called immutable. Once created, the value of an immutable object cannot be changed. Examples of immutable data types in Python include integers, floats, strings, tuples, and frozensets."
   ]
  },
  {
   "cell_type": "code",
   "execution_count": 11,
   "id": "4463440e",
   "metadata": {},
   "outputs": [
    {
     "name": "stdout",
     "output_type": "stream",
     "text": [
      "Original list: [1, 2, 3]\n",
      "Modified list: [10, 2, 3]\n",
      "Original string: Hello\n"
     ]
    }
   ],
   "source": [
    "# Example of Mutable datatype\n",
    "my_list = [1, 2, 3]\n",
    "print(\"Original list:\", my_list)\n",
    "my_list[0] = 10\n",
    "print(\"Modified list:\", my_list)\n",
    "\n",
    "#Example of Immutable datatype\n",
    "my_string = \"Hello\"\n",
    "print(\"Original string:\", my_string)\n",
    "# Attempting to modify the string, this will raise an error because strings are immutable\n",
    "my_string[0] = 'J'"
   ]
  },
  {
   "cell_type": "code",
   "execution_count": null,
   "id": "f530fdf2",
   "metadata": {},
   "outputs": [],
   "source": []
  }
 ],
 "metadata": {
  "kernelspec": {
   "display_name": "Python 3 (ipykernel)",
   "language": "python",
   "name": "python3"
  },
  "language_info": {
   "codemirror_mode": {
    "name": "ipython",
    "version": 3
   },
   "file_extension": ".py",
   "mimetype": "text/x-python",
   "name": "python",
   "nbconvert_exporter": "python",
   "pygments_lexer": "ipython3",
   "version": "3.11.5"
  }
 },
 "nbformat": 4,
 "nbformat_minor": 5
}
